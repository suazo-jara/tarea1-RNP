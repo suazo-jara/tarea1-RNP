{
 "cells": [
  {
   "cell_type": "markdown",
   "metadata": {
    "id": "mofZgh6Mhcyq"
   },
   "source": [
    "## **Validación Cruzada**\n",
    "\n",
    "En este Notebook, se realiza validación cruzada K-Fold al modelo entrenado sólo con CNN para la clasificación de acentos, con la finalidad de validar la estabilidad del modelo."
   ]
  },
  {
   "cell_type": "markdown",
   "metadata": {},
   "source": [
    "## Preprocesamiento\n",
    "\n",
    "Se cargan los datos asociados a los espectrogramas de Mel."
   ]
  },
  {
   "cell_type": "code",
   "execution_count": null,
   "metadata": {
    "id": "uQhz7Je2yNG6"
   },
   "outputs": [],
   "source": [
    "import numpy as np\n",
    "from tensorflow.keras.utils import to_categorical"
   ]
  },
  {
   "cell_type": "code",
   "execution_count": null,
   "metadata": {
    "id": "rKln43PAxmhK"
   },
   "outputs": [],
   "source": [
    "# Cargar el archivo .npz con los datos\n",
    "data = np.load(\"mel_Train.npz\")\n",
    "\n",
    "# Extraer características y etiquetas\n",
    "X = data['X']  # features\n",
    "y = data['y']  # Etiquetas de clase"
   ]
  },
  {
   "cell_type": "code",
   "execution_count": null,
   "metadata": {
    "colab": {
     "base_uri": "https://localhost:8080/"
    },
    "id": "t9mWiC9TwMes",
    "outputId": "2c425fda-9870-438c-8bfc-98e9c4dd6a0c"
   },
   "outputs": [
    {
     "name": "stdout",
     "output_type": "stream",
     "text": [
      "Forma de X: (1395, 200, 128, 1)\n",
      "Forma de y_final: (1395, 10)\n"
     ]
    }
   ],
   "source": [
    "# obtener las clases únicas ordenadas (10 posibles combinaciones)\n",
    "clases = sorted(set(y))\n",
    "\n",
    "# crear un diccionario para mapear cada etiqueta a un número y viceversa\n",
    "label_to_index = {}\n",
    "index_to_label = {}\n",
    "for i, etiqueta in enumerate(clases):\n",
    "    label_to_index[etiqueta] = i  # '0 2' → 0, '0 3' → 1, etc.\n",
    "    index_to_label[i] = etiqueta  #  0 → '0 2'\n",
    "\n",
    "#transforma las etiquetas del conjunto y en números\n",
    "y_ok = []\n",
    "for etiqueta in y:\n",
    "    indice = label_to_index[etiqueta]\n",
    "    y_ok.append(indice)\n",
    "\n",
    "y_ok = np.array(y_ok)\n",
    "\n",
    "\n",
    "# codificar para clasificación, convertir a one-hot\n",
    "y_final = to_categorical(y_ok, num_classes=len(clases))\n",
    "\n",
    "print(\"Forma de X:\", X.shape)\n",
    "print(\"Forma de y_final:\", y_final.shape)"
   ]
  },
  {
   "cell_type": "code",
   "execution_count": null,
   "metadata": {
    "colab": {
     "base_uri": "https://localhost:8080/"
    },
    "id": "v4_Mdwj5MrNE",
    "outputId": "d9f941e7-2d8c-44ea-ffe9-27c8ed85e9df"
   },
   "outputs": [
    {
     "name": "stdout",
     "output_type": "stream",
     "text": [
      "Etiqueta original: 0 2\n",
      "Índice asignado: 0\n",
      "Vector one-hot: [1. 0. 0. 0. 0. 0. 0. 0. 0. 0.]\n",
      "Decodificada: 0 2\n"
     ]
    }
   ],
   "source": [
    "print(\"Etiqueta original:\", y[0])\n",
    "print(\"Índice asignado:\", y_ok[0])\n",
    "print(\"Vector one-hot:\", y_final[0])\n",
    "print(\"Decodificada:\", index_to_label[np.argmax(y_final[0])])"
   ]
  },
  {
   "cell_type": "markdown",
   "metadata": {
    "id": "DyR8onHvuLMH"
   },
   "source": [
    "## Validación Cruzada\n",
    "\n",
    "Para realizar la validación se utilizan 5 particiones de los datos, que luego son divididos en entrenamiento y validación"
   ]
  },
  {
   "cell_type": "code",
   "execution_count": null,
   "metadata": {
    "colab": {
     "base_uri": "https://localhost:8080/"
    },
    "id": "XCamVMe5hCRy",
    "outputId": "e9f272ca-7442-459b-caeb-43ce7fe40c90"
   },
   "outputs": [
    {
     "name": "stdout",
     "output_type": "stream",
     "text": [
      "\n",
      "Fold 1\n"
     ]
    },
    {
     "name": "stderr",
     "output_type": "stream",
     "text": [
      "/usr/local/lib/python3.11/dist-packages/keras/src/saving/saving_lib.py:757: UserWarning: Skipping variable loading for optimizer 'rmsprop', because it has 14 variables whereas the saved optimizer has 2 variables. \n",
      "  saveable.load_own_variables(weights_store.get(inner_path))\n"
     ]
    },
    {
     "name": "stdout",
     "output_type": "stream",
     "text": [
      "Val Loss: 1.0071 | Val Accuracy: 0.9104\n",
      "\u001b[1m9/9\u001b[0m \u001b[32m━━━━━━━━━━━━━━━━━━━━\u001b[0m\u001b[37m\u001b[0m \u001b[1m0s\u001b[0m 17ms/step\n",
      "Fold 1 - F1 macro: 0.9217 | Recall macro: 0.9224\n",
      "\n",
      "Fold 2\n"
     ]
    },
    {
     "name": "stderr",
     "output_type": "stream",
     "text": [
      "/usr/local/lib/python3.11/dist-packages/keras/src/saving/saving_lib.py:757: UserWarning: Skipping variable loading for optimizer 'rmsprop', because it has 14 variables whereas the saved optimizer has 2 variables. \n",
      "  saveable.load_own_variables(weights_store.get(inner_path))\n"
     ]
    },
    {
     "name": "stdout",
     "output_type": "stream",
     "text": [
      "Val Loss: 0.9677 | Val Accuracy: 0.9247\n",
      "\u001b[1m9/9\u001b[0m \u001b[32m━━━━━━━━━━━━━━━━━━━━\u001b[0m\u001b[37m\u001b[0m \u001b[1m0s\u001b[0m 17ms/step\n",
      "Fold 2 - F1 macro: 0.9233 | Recall macro: 0.9249\n",
      "\n",
      "Fold 3\n"
     ]
    },
    {
     "name": "stderr",
     "output_type": "stream",
     "text": [
      "/usr/local/lib/python3.11/dist-packages/keras/src/saving/saving_lib.py:757: UserWarning: Skipping variable loading for optimizer 'rmsprop', because it has 14 variables whereas the saved optimizer has 2 variables. \n",
      "  saveable.load_own_variables(weights_store.get(inner_path))\n"
     ]
    },
    {
     "name": "stdout",
     "output_type": "stream",
     "text": [
      "Val Loss: 0.9975 | Val Accuracy: 0.9247\n",
      "\u001b[1m9/9\u001b[0m \u001b[32m━━━━━━━━━━━━━━━━━━━━\u001b[0m\u001b[37m\u001b[0m \u001b[1m0s\u001b[0m 19ms/step\n",
      "Fold 3 - F1 macro: 0.9041 | Recall macro: 0.9015\n",
      "\n",
      "Fold 4\n"
     ]
    },
    {
     "name": "stderr",
     "output_type": "stream",
     "text": [
      "/usr/local/lib/python3.11/dist-packages/keras/src/saving/saving_lib.py:757: UserWarning: Skipping variable loading for optimizer 'rmsprop', because it has 14 variables whereas the saved optimizer has 2 variables. \n",
      "  saveable.load_own_variables(weights_store.get(inner_path))\n"
     ]
    },
    {
     "name": "stdout",
     "output_type": "stream",
     "text": [
      "Val Loss: 0.9298 | Val Accuracy: 0.9104\n",
      "\u001b[1m9/9\u001b[0m \u001b[32m━━━━━━━━━━━━━━━━━━━━\u001b[0m\u001b[37m\u001b[0m \u001b[1m0s\u001b[0m 17ms/step\n",
      "Fold 4 - F1 macro: 0.9417 | Recall macro: 0.9420\n",
      "\n",
      "Fold 5\n"
     ]
    },
    {
     "name": "stderr",
     "output_type": "stream",
     "text": [
      "/usr/local/lib/python3.11/dist-packages/keras/src/saving/saving_lib.py:757: UserWarning: Skipping variable loading for optimizer 'rmsprop', because it has 14 variables whereas the saved optimizer has 2 variables. \n",
      "  saveable.load_own_variables(weights_store.get(inner_path))\n"
     ]
    },
    {
     "name": "stdout",
     "output_type": "stream",
     "text": [
      "Val Loss: 1.0708 | Val Accuracy: 0.8925\n",
      "\u001b[1m9/9\u001b[0m \u001b[32m━━━━━━━━━━━━━━━━━━━━\u001b[0m\u001b[37m\u001b[0m \u001b[1m0s\u001b[0m 25ms/step\n",
      "Fold 5 - F1 macro: 0.9307 | Recall macro: 0.9318\n",
      "\n",
      "F1 macro promedio: 0.9243 ± 0.0123\n",
      "\n",
      "Recall macro promedio: 0.9245 ± 0.0134\n"
     ]
    }
   ],
   "source": [
    "import numpy as np\n",
    "from sklearn.model_selection import StratifiedKFold\n",
    "from sklearn.metrics import f1_score, recall_score\n",
    "import tensorflow as tf\n",
    "\n",
    "#Se utiliza K-Fold, 5 grupos de data\n",
    "\n",
    "y_labels = np.argmax(y_final, axis=1)  \n",
    "kfold = StratifiedKFold(n_splits=5, shuffle=True, random_state=42)\n",
    "\n",
    "f1_scores = []\n",
    "recall_scores = []\n",
    "val_losses= []\n",
    "val_accuracies= []\n",
    "\n",
    "for fold, (train_idx, val_idx) in enumerate(kfold.split(X, y_labels)):\n",
    "    print(f\"\\nFold {fold+1}\")\n",
    "\n",
    "    # Dividir los datos\n",
    "    X_train, X_val = X[train_idx], X[val_idx]\n",
    "    y_train, y_val = y_final[train_idx], y_final[val_idx]\n",
    "\n",
    "    # Cargar el modelo guardado anteriormente\n",
    "    model = tf.keras.models.load_model(\"modelo_cnn_optuna.keras\")\n",
    "\n",
    "    # Entrenamiento con validación\n",
    "    history = model.fit(\n",
    "        X_train, y_train,\n",
    "        validation_data=(X_val, y_val),\n",
    "        epochs=70,\n",
    "        batch_size=32,\n",
    "        verbose=0,\n",
    "        callbacks=[tf.keras.callbacks.EarlyStopping(monitor='val_loss', patience=10, restore_best_weights=True)]\n",
    "    )\n",
    "\n",
    "    # Últimos valores de val_loss y val_accuracy para cada grupo\n",
    "    val_loss = history.history['val_loss'][-1]\n",
    "    val_acc = history.history['val_accuracy'][-1]\n",
    "    \n",
    "    #Se guardan y muestran los valores \n",
    "    val_losses.append(val_loss)\n",
    "    val_accuracies.append(val_acc)\n",
    "    print(f\"Val Loss: {val_loss:.4f} | Val Accuracy: {val_acc:.4f}\")\n",
    "\n",
    "    # Predecir con conjunto de validación\n",
    "    y_pred = tf.argmax(model.predict(X_val), axis=1).numpy()\n",
    "    y_true = tf.argmax(y_val, axis=1).numpy()\n",
    "\n",
    "    # Calcular F1 macro Score para evaluar\n",
    "    f1 = f1_score(y_true, y_pred, average='macro')\n",
    "    recall = recall_score(y_true, y_pred, average='macro')\n",
    "    #Guardo el F1 macro Score y Recall\n",
    "    \n",
    "    f1_scores.append(f1)\n",
    "    recall_scores.append(recall)\n",
    "    print(f\"Fold {fold+1} - F1 macro: {f1:.4f} | Recall macro: {recall:.4f}\")\n",
    "\n",
    "# Promedio de las métricas obtenidas para cada fold\n",
    "print(f\"\\nF1 macro promedio: {np.mean(f1_scores):.4f} ± {np.std(f1_scores):.4f}\")\n",
    "print(f\"\\nRecall macro promedio: {np.mean(recall_scores):.4f} ± {np.std(recall_scores):.4f}\")\n"
   ]
  },
  {
   "cell_type": "markdown",
   "metadata": {
    "id": "-WgsfsvMuABE"
   },
   "source": [
    "## Validación\n",
    "\n",
    "Los promedios se observan altos y estables.\n",
    "F1 macro promedio: 0.9243 ± 0.0123\n",
    "Recall macro promedio: 0.9245 ± 0.0134\n",
    "\n",
    "Usamos validación cruzada con 5 folds para asegurarnos de que el rendimiento del modelo no dependa del azar en la separación de datos. Esta técnica nos permitió evaluar la robustez y generalización del sistema en distintas configuraciones, obteniendo un macro F1-score promedio alto y estable. Es especialmente útil ´porque trabajamos con una cantidad moderada de datos y queremos tener confianza en que el modelo no está sobreajustado a un subconjunto específico."
   ]
  },
  {
   "cell_type": "code",
   "execution_count": null,
   "metadata": {},
   "outputs": [],
   "source": []
  }
 ],
 "metadata": {
  "accelerator": "GPU",
  "colab": {
   "gpuType": "T4",
   "provenance": []
  },
  "kernelspec": {
   "display_name": "Python [conda env:base] *",
   "language": "python",
   "name": "conda-base-py"
  },
  "language_info": {
   "codemirror_mode": {
    "name": "ipython",
    "version": 3
   },
   "file_extension": ".py",
   "mimetype": "text/x-python",
   "name": "python",
   "nbconvert_exporter": "python",
   "pygments_lexer": "ipython3",
   "version": "3.12.7"
  }
 },
 "nbformat": 4,
 "nbformat_minor": 4
}
